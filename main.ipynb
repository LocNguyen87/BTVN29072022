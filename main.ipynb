{
 "cells": [
  {
   "cell_type": "code",
   "execution_count": 4,
   "metadata": {},
   "outputs": [
    {
     "name": "stdout",
     "output_type": "stream",
     "text": [
      "Tổng thu nhập là: 80.0 triệu/tháng\n",
      "Số người phụ thuộc là: 5.0 người\n",
      "=> Thuế TNCN phải đóng là: 11.75 triệu/tháng\n"
     ]
    }
   ],
   "source": [
    "# Bài 1: Theo luật từ năm 2020 thuế suất thu nhập cá nhân được tính như sau: Nếu phần thu nhập tính thuế/tháng đến 5 triệu thì thuế suất là 5%. Trên 5 # triệu đến 10 triệu thì thuế suất là 10%. Trên 10 triệu đến 18 triệu là 15%. Trên 18 triệu đến 32 triệu là 20%. Trên 32 triệu đến 52 triệu là 25%. Trên 52 triệu đến 80 triệu là 30%. Trên 80 triệu là 35%. Tính:\n",
    "#1.\tThuế TNCN phải đóng khi biết thu nhập tính thuế của người đó\n",
    "#2.\tThuế TNCN phải đóng khi biết tổng thu nhập và số người phụ thuộc. Biết rằng, mức giảm trừ gia cảnh được áp dụng cho bản thân người đóng thuế là 11  triệu/tháng. Mức áp dụng đối với người phụ thuộc là 4,4 triệu/tháng. Thu nhập tính thuế thu nhập cá nhân là thu nhập còn lại sau khi tổng thu nhập đã trừ đi các tổng giảm trừ gia cảnh.\n",
    "\n",
    "option = int(input('Chọn thông tin đã có: (1) Thu nhập tính thuế (2) Tổng thu nhập và số người phụ thuộc'))\n",
    "if option == 1:\n",
    "    # Thuế thu nhập cá nhân = Thu nhập chịu thuế * thuế suất\n",
    "    thunhaptinhthue = float(input('Nhập thu nhập tính thuế (triệu/tháng): '))\n",
    "    if thunhaptinhthue <= 0:\n",
    "        print('Không chịu thuế TNCN do không có thu nhập tính thuế')\n",
    "    elif thunhaptinhthue <= 5 :\n",
    "        thuetncn = thunhaptinhthue * 0.05\n",
    "    elif thunhaptinhthue > 5 and thunhaptinhthue <= 10:\n",
    "        thuetncn = thunhaptinhthue * 0.10\n",
    "    elif thunhaptinhthue > 10 and thunhaptinhthue <= 18:\n",
    "        thuetncn = thunhaptinhthue * 0.15\n",
    "    elif thunhaptinhthue > 18 and thunhaptinhthue <= 32:\n",
    "        thuetncn = thunhaptinhthue * 0.2\n",
    "    elif thunhaptinhthue > 32 and thunhaptinhthue <= 52:\n",
    "        thuetncn = thunhaptinhthue * 0.25\n",
    "    elif thunhaptinhthue > 52 and thunhaptinhthue <= 80:\n",
    "        thuetncn = thunhaptinhthue * 0.3\n",
    "    else:\n",
    "        thuetncn = thunhaptinhthue * 0.35\n",
    "    print('Thu nhập tính thuế là:', str(thunhaptinhthue) + ' triệu/tháng')\n",
    "    print('=> Thuế TNCN phải đóng là:', str(thuetncn) + ' triệu/tháng')\n",
    "elif option == 2:\n",
    "    tongthunhap = float(input('Nhập tổng thu nhập (triệu/tháng): '))\n",
    "    songuoiphuthuoc = float(input('Nhập số người phụ thuộc (người): '))\n",
    "\n",
    "    # tính thu nhập chịu thuế: thu nhập chịu thuế = Tổng thu nhập - giảm trừ bản thân(11)- số người phụ thuộc *4.4, thuế suất thì sẽ căn cứ vào các mức theo quy định nhà nước, 5tr đầu tính 5%, 5tr tiếp theo 10%... lũy tiến bạn có thể search là ra\n",
    "    thunhaptinhthue = tongthunhap - 11 - (songuoiphuthuoc*4.4)\n",
    "    if thunhaptinhthue <= 0:\n",
    "        print('Không chịu thuế TNCN do không có thu nhập tính thuế')\n",
    "    elif thunhaptinhthue <= 5 :\n",
    "        thuetncn = thunhaptinhthue * 0.05\n",
    "    elif thunhaptinhthue > 5 and thunhaptinhthue <= 10:\n",
    "        thuetncn = thunhaptinhthue * 0.10\n",
    "    elif thunhaptinhthue > 10 and thunhaptinhthue <= 18:\n",
    "        thuetncn = thunhaptinhthue * 0.15\n",
    "    elif thunhaptinhthue > 18 and thunhaptinhthue <= 32:\n",
    "        thuetncn = thunhaptinhthue * 0.20\n",
    "    elif thunhaptinhthue > 32 and thunhaptinhthue <= 52:\n",
    "        thuetncn = thunhaptinhthue * 0.25\n",
    "    elif thunhaptinhthue > 52 and thunhaptinhthue <= 80:\n",
    "        thuetncn = thunhaptinhthue * 0.30\n",
    "    else:\n",
    "        thuetncn = thunhaptinhthue * 0.35\n",
    "    print('Tổng thu nhập là:', str(tongthunhap) + ' triệu/tháng')\n",
    "    print('Số người phụ thuộc là:', str(songuoiphuthuoc) + ' người')\n",
    "    print('=> Thuế TNCN phải đóng là:', str(thuetncn) + ' triệu/tháng')\n",
    "\n",
    "else:\n",
    "    print('Thông tin không đúng')\n"
   ]
  }
 ],
 "metadata": {
  "kernelspec": {
   "display_name": "Python 3.9.12 ('base')",
   "language": "python",
   "name": "python3"
  },
  "language_info": {
   "codemirror_mode": {
    "name": "ipython",
    "version": 3
   },
   "file_extension": ".py",
   "mimetype": "text/x-python",
   "name": "python",
   "nbconvert_exporter": "python",
   "pygments_lexer": "ipython3",
   "version": "3.9.12"
  },
  "orig_nbformat": 4,
  "vscode": {
   "interpreter": {
    "hash": "b09ec625f77bf4fd762565a912b97636504ad6ec901eb2d0f4cf5a7de23e1ee5"
   }
  }
 },
 "nbformat": 4,
 "nbformat_minor": 2
}
