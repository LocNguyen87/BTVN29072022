{
 "cells": [
  {
   "cell_type": "code",
   "execution_count": 1,
   "metadata": {},
   "outputs": [
    {
     "name": "stdout",
     "output_type": "stream",
     "text": [
      "Chọn thông tin đã có: (1) Thu nhập tính thuế (2) Tổng thu nhập và số người phụ thuộc2\n",
      "Nhập tổng thu nhập (/tháng): 90000000\n",
      "Nhập số người phụ thuộc (người): 5\n",
      "Tổng thu nhập là: 90000000 / tháng\n",
      "Số người phụ thuộc là: 5 người\n",
      "=> Thu nhập tính thuế là: 57000000 / tháng\n",
      "=> Thuế TNCN phải đóng là: 11250000 / tháng\n"
     ]
    }
   ],
   "source": [
    "# Bài 1: Theo luật từ năm 2020 thuế suất thu nhập cá nhân được tính như sau: Nếu phần thu nhập tính thuế/tháng đến 5 triệu thì thuế suất là 5%. Trên 5 # triệu đến 10 triệu thì thuế suất là 10%. Trên 10 triệu đến 18 triệu là 15%. Trên 18 triệu đến 32 triệu là 20%. Trên 32 triệu đến 52 triệu là 25%. Trên 52 triệu đến 80 triệu là 30%. Trên 80 triệu là 35%. Tính:\n",
    "#1.\tThuế TNCN phải đóng khi biết thu nhập tính thuế của người đó\n",
    "#2.\tThuế TNCN phải đóng khi biết tổng thu nhập và số người phụ thuộc. Biết rằng, mức giảm trừ gia cảnh được áp dụng cho bản thân người đóng thuế là 11  triệu/tháng. Mức áp dụng đối với người phụ thuộc là 4,4 triệu/tháng. Thu nhập tính thuế thu nhập cá nhân là thu nhập còn lại sau khi tổng thu nhập đã trừ đi các tổng giảm trừ gia cảnh.\n",
    "\n",
    "option = int(input('Chọn thông tin đã có: (1) Thu nhập tính thuế (2) Tổng thu nhập và số người phụ thuộc'))\n",
    "if option == 1:\n",
    "    # Thuế thu nhập cá nhân = Thu nhập chịu thuế * thuế suất\n",
    "    thunhaptinhthue = float(input('Nhập thu nhập tính thuế (triệu/tháng): '))\n",
    "    if thunhaptinhthue <= 0:\n",
    "        print('Không chịu thuế TNCN do không có thu nhập tính thuế')\n",
    "    elif thunhaptinhthue <= 5000000 :\n",
    "        thuetncn = thunhaptinhthue * 0.05\n",
    "    elif thunhaptinhthue > 5000000 and thunhaptinhthue <= 10000000:\n",
    "        thuetncn = 5000000*0.05 + (thunhaptinhthue-5000000) * 0.10\n",
    "    elif thunhaptinhthue > 10000000 and thunhaptinhthue <= 18000000:\n",
    "        thuetncn = 5000000*0.05 + (10000000-5000000)*0.10 + (thunhaptinhthue-10000000) * 0.15\n",
    "    elif thunhaptinhthue > 18000000 and thunhaptinhthue <= 32000000:\n",
    "        thuetncn = 5000000*0.05 + (10000000-5000000)*0.10 + (18000000-10000000)*0.15 + (thunhaptinhthue-18000000) * 0.2\n",
    "    elif thunhaptinhthue > 32000000 and thunhaptinhthue <= 52000000:\n",
    "        thuetncn = 5000000*0.05 + (10000000-5000000)*0.10 + (18000000-10000000)*0.15 + (32000000-18000000)* 0.2 + (thunhaptinhthue-32000000) * 0.25\n",
    "    elif thunhaptinhthue > 52000000 and thunhaptinhthue <= 80000000:\n",
    "        thuetncn = 5000000*0.05 + (10000000-5000000)*0.10 + (18000000-10000000)*0.15 + (32000000-18000000)* 0.2 + (52000000-32000000)*0.25 + (thunhaptinhthue-52000000) * 0.3\n",
    "    else:\n",
    "        thuetncn = 5000000*0.05 + (10000000-5000000)*0.10 + (18000000-10000000)*0.15 + (32000000-18000000)* 0.2 + (52000000-32000000)*0.25 + (80000000-52000000)*0.3 + (thunhaptinhthue-80000000) * 0.35\n",
    "    print('Thu nhập tính thuế là:', str(thunhaptinhthue) + ' /tháng')\n",
    "    print('=> Thuế TNCN phải đóng là:', str(thuetncn) + ' /tháng')\n",
    "elif option == 2:\n",
    "    tongthunhap = int(input('Nhập tổng thu nhập (/tháng): '))\n",
    "    songuoiphuthuoc = int(input('Nhập số người phụ thuộc (người): '))\n",
    "\n",
    "    # tính thu nhập chịu thuế: thu nhập chịu thuế = Tổng thu nhập - giảm trừ bản thân(11)- số người phụ thuộc *4.4, thuế suất thì sẽ căn cứ vào các mức theo quy định nhà nước, 5tr đầu tính 5%, 5tr tiếp theo 10%... lũy tiến bạn có thể search là ra\n",
    "    thunhaptinhthue = tongthunhap - 11000000 - (songuoiphuthuoc*4400000)\n",
    "    if thunhaptinhthue <= 0:\n",
    "        print('Không chịu thuế TNCN do không có thu nhập tính thuế')\n",
    "    elif thunhaptinhthue <= 5000000 :\n",
    "        thuetncn = thunhaptinhthue * 0.05\n",
    "    elif thunhaptinhthue > 5000000 and thunhaptinhthue <= 10000000:\n",
    "        thuetncn = 5000000*0.05 + (thunhaptinhthue-5000000) * 0.10\n",
    "    elif thunhaptinhthue > 10000000 and thunhaptinhthue <= 18000000:\n",
    "        thuetncn = 5000000*0.05 + (10000000-5000000)*0.10 + (thunhaptinhthue-10000000) * 0.15\n",
    "    elif thunhaptinhthue > 18000000 and thunhaptinhthue <= 32000000:\n",
    "        thuetncn = 5000000*0.05 + (10000000-5000000)*0.10 + (18000000-10000000)*0.15 + (thunhaptinhthue-18000000) * 0.2\n",
    "    elif thunhaptinhthue > 32000000 and thunhaptinhthue <= 52000000:\n",
    "        thuetncn = 5000000*0.05 + (10000000-5000000)*0.10 + (18000000-10000000)*0.15 + (32000000-18000000)* 0.2 + (thunhaptinhthue-32000000) * 0.25\n",
    "    elif thunhaptinhthue > 52000000 and thunhaptinhthue <= 80000000:\n",
    "        thuetncn = 5000000*0.05 + (10000000-5000000)*0.10 + (18000000-10000000)*0.15 + (32000000-18000000)* 0.2 + (52000000-32000000)*0.25 + (thunhaptinhthue-52000000) * 0.3\n",
    "    else:\n",
    "        thuetncn = 5000000*0.05 + (10000000-5000000)*0.10 + (18000000-10000000)*0.15 + (32000000-18000000)* 0.2 + (52000000-32000000)*0.25 + (80000000-52000000)*0.3 + (thunhaptinhthue-80000000) * 0.35\n",
    "    print('Tổng thu nhập là:', str(tongthunhap) + ' / tháng')\n",
    "    print('Số người phụ thuộc là:', str(songuoiphuthuoc) + ' người')\n",
    "    print('=> Thu nhập tính thuế là:', str(thunhaptinhthue) + ' / tháng')\n",
    "    print('=> Thuế TNCN phải đóng là:', str(round(thuetncn)) + ' / tháng')\n",
    "\n",
    "else:\n",
    "    print('Thông tin không đúng')\n"
   ]
  },
  {
   "cell_type": "code",
   "execution_count": null,
   "metadata": {},
   "outputs": [],
   "source": []
  }
 ],
 "metadata": {
  "kernelspec": {
   "display_name": "Python 3 (ipykernel)",
   "language": "python",
   "name": "python3"
  },
  "language_info": {
   "codemirror_mode": {
    "name": "ipython",
    "version": 3
   },
   "file_extension": ".py",
   "mimetype": "text/x-python",
   "name": "python",
   "nbconvert_exporter": "python",
   "pygments_lexer": "ipython3",
   "version": "3.9.12"
  },
  "vscode": {
   "interpreter": {
    "hash": "b09ec625f77bf4fd762565a912b97636504ad6ec901eb2d0f4cf5a7de23e1ee5"
   }
  }
 },
 "nbformat": 4,
 "nbformat_minor": 2
}
